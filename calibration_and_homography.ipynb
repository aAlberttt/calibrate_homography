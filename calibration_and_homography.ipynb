{
 "cells": [
  {
   "cell_type": "code",
   "execution_count": 1,
   "metadata": {},
   "outputs": [],
   "source": [
    "import time\n",
    "import numpy as np\n",
    "from PIL import Image\n",
    "import matplotlib.pyplot as plt\n",
    "%matplotlib qt\n",
    "import math\n",
    "import cv2"
   ]
  },
  {
   "cell_type": "code",
   "execution_count": 3,
   "metadata": {},
   "outputs": [],
   "source": [
    "'''\n",
    "%VGG_KR_FROM_P Extract K, R from camera matrix.\n",
    "%\n",
    "%    [K,R,t] = VGG_KR_FROM_P(P [,noscale]) finds K, R, t such that P = K*R*[eye(3) -t].\n",
    "%    It is det(R)==1.\n",
    "%    K is scaled so that K(3,3)==1 and K(1,1)>0. Optional parameter noscale prevents this.\n",
    "%\n",
    "%    Works also generally for any P of size N-by-(N+1).\n",
    "%    Works also for P of size N-by-N, then t is not computed.\n",
    "\n",
    "% original Author: Andrew Fitzgibbon <awf@robots.ox.ac.uk> and awf\n",
    "% Date: 15 May 98\n",
    "\n",
    "% Modified by Shu, ANU.\n",
    "% Date: 8 May 20\n",
    "'''\n",
    "\n",
    "def vgg_rq(S):\n",
    "    S = S.T\n",
    "    [Q,U] = np.linalg.qr(S[::-1,::-1], mode='complete')\n",
    "\n",
    "    Q = Q.T\n",
    "    Q = Q[::-1, ::-1]\n",
    "    U = U.T\n",
    "    U = U[::-1, ::-1]\n",
    "    if np.linalg.det(Q)<0:\n",
    "        U[:,0] = -U[:,0]\n",
    "        Q[0,:] = -Q[0,:]\n",
    "    return U,Q\n",
    "\n",
    "\n",
    "def vgg_KR_from_P(P, noscale = True):\n",
    "    N = P.shape[0]\n",
    "    H = P[:,0:N]\n",
    "#     print(N,'|', H)\n",
    "    [K,R] = vgg_rq(H)\n",
    "    if noscale:\n",
    "        K = K / K[N-1,N-1]\n",
    "        if K[0,0] < 0:\n",
    "            D = np.diag([-1, -1, np.ones([1,N-2])]);\n",
    "            K = K @ D\n",
    "            R = D @ R\n",
    "        \n",
    "            test = K*R; \n",
    "            assert (test/test[0,0] - H/H[0,0]).all() <= 1e-07\n",
    "    \n",
    "    t = np.linalg.inv(-P[:,0:N]) @ P[:,-1]\n",
    "    return K, R, t\n",
    "\n",
    "# K, R, t = vgg_KR_from_P(C)\n",
    "# print()"
   ]
  },
  {
   "cell_type": "code",
   "execution_count": 4,
   "metadata": {},
   "outputs": [],
   "source": [
    "\n",
    "\n",
    "############################################################################\n",
    "def rq(A):\n",
    "    # RQ factorisation\n",
    "\n",
    "    [q,r] = np.linalg.qr(A.T)   # numpy has QR decomposition, here we can do it \n",
    "                                # with Q: orthonormal and R: upper triangle. Apply QR\n",
    "                                # for the A-transpose, then A = (qr).T = r.T@q.T = RQ\n",
    "    R = r.T\n",
    "    Q = q.T\n",
    "    return R,Q\n",
    "\n"
   ]
  },
  {
   "cell_type": "code",
   "execution_count": 4,
   "metadata": {},
   "outputs": [],
   "source": [
    "# Task 1"
   ]
  },
  {
   "cell_type": "code",
   "execution_count": 5,
   "metadata": {},
   "outputs": [],
   "source": [
    "# I = Image.open('stereo2012a.jpg')\n",
    "# plt.title('select 12 points in the image')\n",
    "# plt.imshow(I)\n",
    "\n",
    "# uv = np.asarray(plt.ginput(12,timeout=9999)) # Graphical user interface to get 12 points\n",
    "# np.save('uv1.npy',uv)\n"
   ]
  },
  {
   "cell_type": "code",
   "execution_count": 6,
   "metadata": {},
   "outputs": [],
   "source": [
    "\n",
    "XYZ = np.array([\n",
    "    [0,35,21],\n",
    "    [0,28,14],\n",
    "    [0,21,7],\n",
    "    [0,7,14],\n",
    "    [21,35,0],\n",
    "    [14,28,0],\n",
    "    [7,21,0],\n",
    "    [14,7,0],\n",
    "    [0,0,0],\n",
    "    [7,0,21],\n",
    "    [21,0,21],\n",
    "    [21,0,7]\n",
    "])\n"
   ]
  },
  {
   "cell_type": "code",
   "execution_count": 7,
   "metadata": {},
   "outputs": [],
   "source": [
    "\n",
    "img = cv2.imread('stereo2012a.jpg')\n",
    "img = cv2.cvtColor(img, cv2.COLOR_BGR2RGB)\n",
    "\n",
    "uv1 = np.load('uv1.npy')\n",
    "\n",
    "uv_3D = (np.append(uv1,np.ones((12,1)),axis=1))\n",
    "XYZ_4D = (np.append(XYZ,np.ones((12,1)),axis=1))\n",
    "\n",
    "# plt.imshow(img)\n"
   ]
  },
  {
   "cell_type": "code",
   "execution_count": 8,
   "metadata": {},
   "outputs": [
    {
     "data": {
      "text/plain": [
       "<matplotlib.image.AxesImage at 0x7fbc4c286990>"
      ]
     },
     "execution_count": 8,
     "metadata": {},
     "output_type": "execute_result"
    }
   ],
   "source": [
    "\n",
    "plt.figure()\n",
    "\n",
    "plt.scatter(uv1[:,0],uv1[:,1],c='r',s=30,marker='o',zorder=1)\n",
    "plt.title('Check the selected points in the image')\n",
    "plt.imshow(img)\n"
   ]
  },
  {
   "cell_type": "code",
   "execution_count": 9,
   "metadata": {},
   "outputs": [],
   "source": [
    "\n",
    "'''\n",
    "%% TASK 1: CALIBRATE\n",
    "%\n",
    "% Function to perform camera calibration\n",
    "%\n",
    "% Usage:   calibrate(image, XYZ, uv)\n",
    "%          return C\n",
    "%   Where:   image - is the image of the calibration target.\n",
    "%            XYZ - is a N x 3 array of  XYZ coordinates\n",
    "%                  of the calibration target points. \n",
    "%            uv  - is a N x 2 array of the image coordinates\n",
    "%                  of the calibration target points.\n",
    "%            K   - is the 3 x 4 camera calibration matrix.\n",
    "%  The variable N should be an integer greater than or equal to 6.\n",
    "%\n",
    "%  This function plots the uv coordinates onto the image of the calibration\n",
    "%  target. \n",
    "%\n",
    "%  It also projects the XYZ coordinates back into image coordinates using\n",
    "%  the calibration matrix and plots these points too as \n",
    "%  a visual check on the accuracy of the calibration process.\n",
    "%\n",
    "%  Lines from the origin to the vanishing points in the X, Y and Z\n",
    "%  directions are overlaid on the image. \n",
    "%\n",
    "%  The mean squared error between the positions of the uv coordinates \n",
    "%  and the projected XYZ coordinates is also reported.\n",
    "%\n",
    "%  The function should also report the error in satisfying the \n",
    "%  camera calibration matrix constraints.\n",
    "% \n",
    "% your name: Runxiang Huang\n",
    "% date: 12 May\n",
    "'''\n",
    "\n",
    "#####################################################################\n",
    "\n",
    "def T_norm(img):\n",
    "    img_copy = img.copy()\n",
    "    H = img_copy.shape[0]\n",
    "    W = img_copy.shape[1]\n",
    "    matrix = np.array([\n",
    "        [H + W, 0, W / 2],\n",
    "        [0, H + W, H / 2],\n",
    "        [0, 0, 1]\n",
    "    ])\n",
    "    T_norm = np.linalg.inv(matrix)\n",
    "    return T_norm\n",
    "\n",
    "def S_norm(uv):\n",
    "# calculate the coovariance matrix of uv\n",
    "    Cov = np.cov(uv.T)\n",
    "# generate the eigenvalues and eigenvectors by the Cov\n",
    "    EigenValues, EigenVectors = np.linalg.eig(Cov)\n",
    "# generate the diagonal matrix with the eigenvalues\n",
    "    Diag = np.zeros((EigenValues.shape[0],EigenValues.shape[0]))\n",
    "    for i in range(EigenValues.shape[0]):\n",
    "        if EigenValues[i] != 0:\n",
    "            Diag[i][i] = 1 / EigenValues[i]\n",
    "        else:\n",
    "            Diag[i][i] = EigenValues[i]\n",
    "# generate the S_norm matrix according to the formulas\n",
    "    S_norm = np.zeros((EigenValues.shape[0] + 1, EigenVectors.shape[1] + 1))\n",
    "    S_norm[:EigenVectors.shape[0], :EigenVectors.shape[1]] = EigenVectors\n",
    "    S_norm[:EigenVectors.shape[0], - 1] = EigenValues\n",
    "    S_norm[-1, -1] = 1\n",
    "    return S_norm\n",
    "\n",
    "\n",
    "def generate_x(img, XYZ, uv):\n",
    "    t_norm = T_norm(img)\n",
    "    s_norm = S_norm(uv)\n",
    "    x_i =  uv @ t_norm.T # 12*3\n",
    "    X_i = XYZ @ s_norm.T # 12*4\n",
    "    return X_i, x_i\n",
    "\n",
    "def calibrate(img, XYZ, uv):\n",
    "    uv_3D = (np.append(uv, np.ones((uv.shape[0], 1)), axis=1))\n",
    "    XYZ_4D = (np.append(XYZ, np.ones((XYZ.shape[0], 1)), axis=1))\n",
    "    X_i, x_i = generate_x(img, XYZ_4D, uv_3D)\n",
    "    i_range = uv.shape[0]\n",
    "    A = []\n",
    "# according to the formulas, generate the A matrix\n",
    "    for i in range(i_range):\n",
    "        x = list(X_i[i][:])\n",
    "        u = x_i[i][0]\n",
    "        v = x_i[i][1]\n",
    "        \n",
    "        ux = [a*-u for a in x]\n",
    "        vx = [b*-v for b in x]\n",
    "        \n",
    "        A.append(np.array(x + [0, 0, 0, 0] + ux))\n",
    "        A.append(np.array([0, 0, 0, 0] + x + vx))\n",
    "\n",
    "    A = np.stack(A)\n",
    "    s, v, d = np.linalg.svd(A)\n",
    "    P = d.T[:, -1].reshape(3, 4)\n",
    "    return P\n",
    "\n",
    "def denormalize_DLT(img, P, uv):\n",
    "    uv_3D = (np.append(uv,np.ones((uv.shape[0],1)),axis=1))\n",
    "    t_norm = T_norm(img)\n",
    "    s_norm = S_norm(uv_3D)\n",
    "    C = np.linalg.inv(t_norm) @ P @ s_norm\n",
    "    return C\n"
   ]
  },
  {
   "cell_type": "code",
   "execution_count": 10,
   "metadata": {
    "scrolled": false
   },
   "outputs": [
    {
     "name": "stdout",
     "output_type": "stream",
     "text": [
      "[[ 4.30692235e-02 -2.01398217e-02 -5.80933677e-02  3.13168777e+00]\n",
      " [ 1.80922450e-03 -7.24391482e-02  1.40454359e-02  3.24920600e+00]\n",
      " [-3.61910697e-05 -3.40535021e-05 -5.15006470e-05  9.70806299e-03]]\n"
     ]
    }
   ],
   "source": [
    "\n",
    "P = calibrate(img, XYZ, uv1)\n",
    "C = denormalize_DLT(img, P, uv1)\n",
    "print(C)\n"
   ]
  },
  {
   "cell_type": "code",
   "execution_count": 11,
   "metadata": {},
   "outputs": [
    {
     "name": "stdout",
     "output_type": "stream",
     "text": [
      "RMSE is 1.0235408220566287\n"
     ]
    },
    {
     "data": {
      "text/plain": [
       "<matplotlib.image.AxesImage at 0x7fbc4e283b10>"
      ]
     },
     "execution_count": 11,
     "metadata": {},
     "output_type": "execute_result"
    }
   ],
   "source": [
    "\n",
    "new_xyz = XYZ_4D @ C.T\n",
    "\n",
    "new_points = np.zeros((12,2))\n",
    "new_points[:,0] = new_xyz[:,0]/new_xyz[:,2]\n",
    "new_points[:,1] = new_xyz[:,1]/new_xyz[:,2]\n",
    "\n",
    "error = np.sqrt(np.mean((uv1 - new_points) * (uv1 - new_points)))\n",
    "print('RMSE is ' + str(error))\n",
    "\n",
    "plt.figure()\n",
    "\n",
    "plt.scatter(uv_3D[:,0],uv_3D[:,1],c='r',s=30,marker='o',zorder=1)\n",
    "plt.scatter(new_points[:,0],new_points[:,1],c='y',s=25,marker='+',zorder=2)\n",
    "plt.title('Show the points with normalized DLT')\n",
    "\n",
    "plt.imshow(img)\n"
   ]
  },
  {
   "cell_type": "code",
   "execution_count": 12,
   "metadata": {},
   "outputs": [
    {
     "name": "stdout",
     "output_type": "stream",
     "text": [
      "K matrix is \n",
      " [[963.89803202   5.32622531 413.7171333 ]\n",
      " [  0.         977.93687612 327.61839117]\n",
      " [  0.           0.           1.        ]]\n",
      "R matrix is \n",
      " [[ 0.8403214  -0.08288359 -0.53571471]\n",
      " [ 0.19526484 -0.87562285  0.44176496]\n",
      " [-0.5056991  -0.47583079 -0.71962037]]\n",
      "t matrix is \n",
      " [79.18875324 64.3426329  90.31042518]\n",
      "RMSE is 1.0235408220566287\n",
      "Focal length is 1373.109882577227\n",
      "pitch angle = 30.377771285939488\n"
     ]
    }
   ],
   "source": [
    "\n",
    "K,R,t = vgg_KR_from_P(C)\n",
    "print(\"K matrix is \\n\", K)\n",
    "print(\"R matrix is \\n\", R)\n",
    "print(\"t matrix is \\n\", t)\n",
    "\n",
    "error = np.sqrt(np.mean((uv1 - new_points) * (uv1 - new_points)))\n",
    "print('RMSE is ' + str(error))\n",
    "\n",
    "alpha = K[0][0]\n",
    "gamma = K[0][1]\n",
    "beta = K[1][1]\n",
    "\n",
    "fx = alpha\n",
    "theta = math.atan(-alpha / gamma)\n",
    "fy = beta * math.sin(theta)\n",
    "f = np.sqrt(fx**2 + fy**2)\n",
    "\n",
    "print('Focal length is ' + str(f))\n",
    "\n",
    "Pitch_angle = math.asin(-R[2][0])\n",
    "print(\"pitch angle =\",math.degrees(Pitch_angle))\n"
   ]
  },
  {
   "cell_type": "code",
   "execution_count": 13,
   "metadata": {},
   "outputs": [
    {
     "data": {
      "text/plain": [
       "<matplotlib.image.AxesImage at 0x7fbc4e91c210>"
      ]
     },
     "execution_count": 13,
     "metadata": {},
     "output_type": "execute_result"
    }
   ],
   "source": [
    "\n",
    "img_copy = img.copy()\n",
    "\n",
    "Height = img.shape[0]\n",
    "Width = img.shape[1]\n",
    "\n",
    "Half_H = Height // 2\n",
    "Half_W = Width // 2\n",
    "resized_img = cv2.resize(img_copy, (Half_W, Half_H), interpolation = cv2.INTER_AREA)\n",
    "\n",
    "plt.imshow(resized_img)\n"
   ]
  },
  {
   "cell_type": "code",
   "execution_count": 14,
   "metadata": {},
   "outputs": [],
   "source": [
    "\n",
    "# plt.imshow(resized_img)\n",
    "# plt.title('resized image')\n",
    "\n",
    "# resized_uv = np.asarray(plt.ginput(12,timeout=9999))\n",
    "# np.save('resized_uv.npy',resized_uv)\n"
   ]
  },
  {
   "cell_type": "code",
   "execution_count": 15,
   "metadata": {},
   "outputs": [],
   "source": [
    "\n",
    "resized_uv = np.load('resized_uv.npy')\n",
    "resized_xyz_4D = XYZ_4D\n",
    "resized_xyz = XYZ\n",
    "resized_uv_3D = (np.append(resized_uv,np.ones((12,1)),axis=1))\n"
   ]
  },
  {
   "cell_type": "code",
   "execution_count": 16,
   "metadata": {},
   "outputs": [
    {
     "name": "stdout",
     "output_type": "stream",
     "text": [
      "[[-7.85955179e-02  3.98700409e-02  1.21333988e-01 -6.40764504e+00]\n",
      " [ 6.22101874e-03  1.44861802e-01 -2.26415381e-02 -6.69252025e+00]\n",
      " [ 1.96403841e-04  1.30334756e-04  2.30874007e-04 -3.98206267e-02]]\n"
     ]
    }
   ],
   "source": [
    "\n",
    "resized_P = calibrate(resized_img, resized_xyz, resized_uv)\n",
    "resized_C = denormalize_DLT(resized_img, resized_P, resized_uv)\n",
    "print(resized_C)\n",
    "\n"
   ]
  },
  {
   "cell_type": "code",
   "execution_count": 17,
   "metadata": {},
   "outputs": [
    {
     "data": {
      "text/plain": [
       "<matplotlib.image.AxesImage at 0x7fbc4eac4690>"
      ]
     },
     "execution_count": 17,
     "metadata": {},
     "output_type": "execute_result"
    }
   ],
   "source": [
    "\n",
    "plt.figure()\n",
    "\n",
    "plt.scatter(resized_uv_3D[:,0], resized_uv_3D[:,1], c = 'r', s = 30, marker = 'o', zorder = 1)\n",
    "plt.title('Check the selected points in the resized image')\n",
    "plt.imshow(resized_img)\n",
    "\n"
   ]
  },
  {
   "cell_type": "code",
   "execution_count": 18,
   "metadata": {},
   "outputs": [
    {
     "data": {
      "text/plain": [
       "<matplotlib.image.AxesImage at 0x7fbc4f0ee050>"
      ]
     },
     "execution_count": 18,
     "metadata": {},
     "output_type": "execute_result"
    }
   ],
   "source": [
    "\n",
    "new_resized_xyz = resized_xyz_4D @ resized_C.T\n",
    "\n",
    "new_resized_points = np.zeros((12,2))\n",
    "new_resized_points[:,0] = new_resized_xyz[:,0] / new_resized_xyz[:,2]\n",
    "new_resized_points[:,1] = new_resized_xyz[:,1] / new_resized_xyz[:,2]\n",
    "\n",
    "plt.figure()\n",
    "\n",
    "plt.scatter(resized_uv_3D[:,0], resized_uv_3D[:,1], c = 'r', s = 30, marker = 'o', zorder = 1)\n",
    "plt.scatter(new_resized_points[:,0], new_resized_points[:,1], c = 'y', s = 25, marker = '+', zorder = 2)\n",
    "plt.title('Show the resized image points with normalized DLT')\n",
    "\n",
    "plt.imshow(resized_img)\n",
    "\n"
   ]
  },
  {
   "cell_type": "code",
   "execution_count": 19,
   "metadata": {},
   "outputs": [
    {
     "name": "stdout",
     "output_type": "stream",
     "text": [
      "Resized RMSE is 0.6388344535777464\n",
      "Resized K matrix is \n",
      "[[424.16711024   2.41035104 163.25677073]\n",
      " [ -0.         423.26904508 136.63799726]\n",
      " [ -0.          -0.           1.        ]]\n",
      "Resized R matrix is \n",
      "[[ 0.78985765 -0.1276756  -0.59985318]\n",
      " [ 0.14761423 -0.90975791  0.38800848]\n",
      " [-0.59526039 -0.39501833 -0.69973251]]\n",
      "Resized t matrix is \n",
      "[71.08514849 55.73511028 80.5418016 ]\n"
     ]
    }
   ],
   "source": [
    "\n",
    "resized_error = np.sqrt(np.mean((resized_uv - new_resized_points) * (resized_uv - new_resized_points)))\n",
    "print('Resized RMSE is ' + str(resized_error))\n",
    "\n",
    "resized_K, resized_R, resized_t = vgg_KR_from_P(resized_C)\n",
    "print('Resized K matrix is \\n' + str(resized_K))\n",
    "print('Resized R matrix is \\n' + str(resized_R))\n",
    "print('Resized t matrix is \\n' + str(resized_t))\n"
   ]
  },
  {
   "cell_type": "code",
   "execution_count": 20,
   "metadata": {},
   "outputs": [
    {
     "name": "stdout",
     "output_type": "stream",
     "text": [
      "Resized K matrix is \n",
      "[[424.16711024   2.41035104 163.25677073]\n",
      " [ -0.         423.26904508 136.63799726]\n",
      " [ -0.          -0.           1.        ]]\n",
      "K matrix is \n",
      "[[963.89803202   5.32622531 413.7171333 ]\n",
      " [  0.         977.93687612 327.61839117]\n",
      " [  0.           0.           1.        ]]\n",
      "Resized R matrix is \n",
      "[[ 0.78985765 -0.1276756  -0.59985318]\n",
      " [ 0.14761423 -0.90975791  0.38800848]\n",
      " [-0.59526039 -0.39501833 -0.69973251]]\n",
      "R matrix is \n",
      "[[ 0.8403214  -0.08288359 -0.53571471]\n",
      " [ 0.19526484 -0.87562285  0.44176496]\n",
      " [-0.5056991  -0.47583079 -0.71962037]]\n",
      "Resized t matrix is \n",
      "[71.08514849 55.73511028 80.5418016 ]\n",
      "t matrix is \n",
      "[79.18875324 64.3426329  90.31042518]\n"
     ]
    }
   ],
   "source": [
    "\n",
    "print('Resized K matrix is \\n' + str(resized_K))\n",
    "print(\"K matrix is \\n\" + str(K))\n",
    "print('Resized R matrix is \\n' + str(resized_R))\n",
    "print(\"R matrix is \\n\" + str(R))\n",
    "print('Resized t matrix is \\n' + str(resized_t))\n",
    "print(\"t matrix is \\n\" + str(t))\n"
   ]
  },
  {
   "cell_type": "code",
   "execution_count": null,
   "metadata": {},
   "outputs": [],
   "source": []
  },
  {
   "cell_type": "code",
   "execution_count": null,
   "metadata": {},
   "outputs": [],
   "source": []
  },
  {
   "cell_type": "code",
   "execution_count": null,
   "metadata": {},
   "outputs": [],
   "source": []
  },
  {
   "cell_type": "code",
   "execution_count": null,
   "metadata": {},
   "outputs": [],
   "source": []
  },
  {
   "cell_type": "code",
   "execution_count": null,
   "metadata": {},
   "outputs": [],
   "source": []
  },
  {
   "cell_type": "code",
   "execution_count": 21,
   "metadata": {},
   "outputs": [],
   "source": [
    "# Task 2"
   ]
  },
  {
   "cell_type": "code",
   "execution_count": 22,
   "metadata": {},
   "outputs": [],
   "source": [
    "\n",
    "# I1 = Image.open('left.jpg')\n",
    "# plt.title('select 6 points in the origin image')\n",
    "# plt.imshow(I1)\n",
    "\n",
    "# base = np.asarray(plt.ginput(6,timeout=9999))\n",
    "# np.save('base.npy', base)\n"
   ]
  },
  {
   "cell_type": "code",
   "execution_count": 23,
   "metadata": {},
   "outputs": [],
   "source": [
    "\n",
    "# I2 = Image.open('right.jpg')\n",
    "# plt.title('select 6 coresponding points in the trans image')\n",
    "# plt.imshow(I2)\n",
    "\n",
    "# trans = np.asarray(plt.ginput(6,timeout=9999))\n",
    "# np.save('trans.npy', trans)\n",
    "\n"
   ]
  },
  {
   "cell_type": "code",
   "execution_count": 5,
   "metadata": {},
   "outputs": [],
   "source": [
    "\n",
    "img2 = cv2.imread('left.jpg')\n",
    "img2 = cv2.cvtColor(img2, cv2.COLOR_BGR2RGB)\n",
    "img3 = cv2.imread('right.jpg')\n",
    "img3 = cv2.cvtColor(img3, cv2.COLOR_BGR2RGB)\n"
   ]
  },
  {
   "cell_type": "code",
   "execution_count": 6,
   "metadata": {},
   "outputs": [
    {
     "data": {
      "text/plain": [
       "<matplotlib.image.AxesImage at 0x7f90d0cc8850>"
      ]
     },
     "execution_count": 6,
     "metadata": {},
     "output_type": "execute_result"
    }
   ],
   "source": [
    "\n",
    "base = np.load('base.npy')\n",
    "plt.figure()\n",
    "\n",
    "plt.scatter(base[:,0],base[:,1],c='r',s=30,marker='o',zorder=1)\n",
    "plt.title('Check the selected points in the image')\n",
    "plt.imshow(img2)\n",
    "\n"
   ]
  },
  {
   "cell_type": "code",
   "execution_count": 7,
   "metadata": {},
   "outputs": [
    {
     "data": {
      "text/plain": [
       "<matplotlib.image.AxesImage at 0x7f90d3625d10>"
      ]
     },
     "execution_count": 7,
     "metadata": {},
     "output_type": "execute_result"
    }
   ],
   "source": [
    "\n",
    "trans = np.load('trans.npy')\n",
    "plt.figure()\n",
    "\n",
    "plt.scatter(trans[:,0],trans[:,1],c='r',s=30,marker='o',zorder=1)\n",
    "plt.title('Check the coresponding points in the image')\n",
    "plt.imshow(img3)\n",
    "\n"
   ]
  },
  {
   "cell_type": "code",
   "execution_count": 8,
   "metadata": {},
   "outputs": [
    {
     "data": {
      "text/plain": [
       "<matplotlib.image.AxesImage at 0x7f90d3a82990>"
      ]
     },
     "execution_count": 8,
     "metadata": {},
     "output_type": "execute_result"
    }
   ],
   "source": [
    "\n",
    "plt.figure()\n",
    "plt.subplot(121)\n",
    "plt.scatter(base[:,0],base[:,1],c='r',s=30,marker='o',zorder=1)\n",
    "plt.title('The selected points in the left image')\n",
    "plt.imshow(img2)\n",
    "\n",
    "plt.subplot(122)\n",
    "plt.scatter(trans[:,0],trans[:,1],c='r',s=30,marker='o',zorder=1)\n",
    "plt.title('Check the corresponding points in right the image')\n",
    "plt.imshow(img3)\n"
   ]
  },
  {
   "cell_type": "code",
   "execution_count": 28,
   "metadata": {},
   "outputs": [],
   "source": [
    "\n",
    "# plt.figure()\n",
    "# plt.imshow(img2)\n",
    "# plt.title('select 6 points from the image')\n",
    "# uv2 = np.asarray(plt.ginput(6,timeout=9999)) # Graphical user interface to get 6 points\n",
    "\n",
    "# np.save('uv2.npy', uv2)\n"
   ]
  },
  {
   "cell_type": "code",
   "execution_count": 9,
   "metadata": {},
   "outputs": [
    {
     "data": {
      "text/plain": [
       "<matplotlib.image.AxesImage at 0x7f90d3ac6990>"
      ]
     },
     "execution_count": 9,
     "metadata": {},
     "output_type": "execute_result"
    }
   ],
   "source": [
    "\n",
    "uv2 = np.load('uv2.npy')\n",
    "plt.figure()\n",
    "\n",
    "plt.scatter(uv2[:,0],uv2[:,1],c='r',s=30,marker='o',zorder=1)\n",
    "plt.title('Check the selected points in the image')\n",
    "plt.imshow(img2)\n"
   ]
  },
  {
   "cell_type": "code",
   "execution_count": 10,
   "metadata": {},
   "outputs": [],
   "source": [
    "############################################################################\n",
    "\n",
    "\n",
    "'''\n",
    "%% TASK 2: \n",
    "% Computes the homography H applying the Direct Linear Transformation \n",
    "% The transformation is such that \n",
    "% p = np.matmul(H, p.T), i.e.,\n",
    "% (uBase, vBase, 1).T = np.matmul(H, (u2Trans , v2Trans, 1).T)\n",
    "% Note: we assume (a, b, c) => np.concatenate((a, b, c), axis), be careful when \n",
    "% deal the value of axis \n",
    "%\n",
    "% INPUTS: \n",
    "% u2Trans, v2Trans - vectors with coordinates u and v of the transformed image point (p') \n",
    "% uBase, vBase - vectors with coordinates u and v of the original base image point p  \n",
    "% \n",
    "% OUTPUT \n",
    "% H - a 3x3 Homography matrix  \n",
    "% \n",
    "% your name, date \n",
    "'''\n",
    "\n",
    "def T_norm(img):\n",
    "    img_copy = img.copy()\n",
    "    H = img_copy.shape[0]\n",
    "    W = img_copy.shape[1]\n",
    "    matrix = np.array([\n",
    "        [H + W, 0, W/2],\n",
    "        [0, H + W, H/2],\n",
    "        [0, 0, 1]\n",
    "    ])\n",
    "    T_norm = np.linalg.inv(matrix)\n",
    "    return T_norm\n",
    "\n",
    "def homography(u2Trans, v2Trans, uBase, vBase):\n",
    "    A = []\n",
    "    for i in range(len(u2Trans)):\n",
    "        x = uBase[i]\n",
    "        y = vBase[i]\n",
    "        u = u2Trans[i]\n",
    "        v = v2Trans[i]\n",
    "        \n",
    "        \n",
    "        A.append(np.array([0, 0, 0, -x, -y, -1, v * x, v * y, v]))\n",
    "        A.append(np.array([x, y, 1, 0, 0, 0, -u * x, -u * y, -u]))\n",
    "        \n",
    "    A = np.stack(A)\n",
    "    s, v, d = np.linalg.svd(A)\n",
    "    H = d[-1,:].reshape(3, 3)\n",
    "#     H = H/H[-1,-1]\n",
    "    return H\n",
    "\n",
    "def denormalize_H(T_norm2, H, T_norm1):\n",
    "    new_H = np.linalg.inv(T_norm2) @ H @ T_norm1\n",
    "    return new_H\n"
   ]
  },
  {
   "cell_type": "code",
   "execution_count": 11,
   "metadata": {},
   "outputs": [
    {
     "name": "stdout",
     "output_type": "stream",
     "text": [
      "[[-6.69453868e-01  1.70167581e-02  4.93198796e+01]\n",
      " [-1.17573027e-01 -2.85337692e-01  5.13632082e+00]\n",
      " [-8.68212535e-04  4.25342028e-05 -1.71512667e-01]]\n"
     ]
    }
   ],
   "source": [
    "\n",
    "base_3D = (np.append(base,np.ones((6,1)),axis=1))\n",
    "trans_3D = (np.append(trans,np.ones((6,1)),axis=1))\n",
    "uv2_3D = (np.append(uv2,np.ones((6,1)),axis=1))\n",
    "\n",
    "t_norm_1 = T_norm(img2)\n",
    "t_norm_2 = T_norm(img3)\n",
    "\n",
    "normalized_base = base_3D @ t_norm_1.T\n",
    "normalized_trans = trans_3D @ t_norm_2.T\n",
    "\n",
    "H = homography(normalized_trans[:,0], normalized_trans[:,1], normalized_base[:,0], normalized_base[:,1])\n",
    "H = denormalize_H(t_norm_2, H, t_norm_1)\n",
    "print(H)\n"
   ]
  },
  {
   "cell_type": "code",
   "execution_count": 32,
   "metadata": {},
   "outputs": [
    {
     "data": {
      "text/plain": [
       "<matplotlib.image.AxesImage at 0x7fbc513c33d0>"
      ]
     },
     "execution_count": 32,
     "metadata": {},
     "output_type": "execute_result"
    }
   ],
   "source": [
    "\n",
    "hz = (H @ uv2_3D.T)\n",
    "\n",
    "new = np.zeros((2,6))\n",
    "new[0] = hz[0]/hz[2]\n",
    "new[1] = hz[1]/hz[2]\n",
    "\n",
    "plt.figure()\n",
    "plt.subplot(122)\n",
    "plt.imshow(img3)\n",
    "plt.title('Show the normalized homography points')\n",
    "plt.scatter(new[0],new[1],c='r',s=30,marker='o',zorder=2)\n",
    "\n",
    "\n",
    "plt.subplot(121)\n",
    "plt.scatter(uv2[:,0],uv2[:,1],c='r',s=30,marker='o',zorder=1)\n",
    "plt.title('Check the selected points in the image')\n",
    "plt.imshow(img2)\n"
   ]
  },
  {
   "cell_type": "code",
   "execution_count": 33,
   "metadata": {},
   "outputs": [],
   "source": [
    "plt.figure()\n",
    "warp_img = cv2.warpPerspective(img2, H, (img2.shape[1],img2.shape[0]))\n",
    "plt.imshow(warp_img)\n",
    "plt.title('Show the wrapping image result')\n",
    "plt.show()"
   ]
  },
  {
   "cell_type": "code",
   "execution_count": 34,
   "metadata": {},
   "outputs": [],
   "source": [
    "# test the distance of the selected points affect the result on the warpping image"
   ]
  },
  {
   "cell_type": "code",
   "execution_count": 35,
   "metadata": {},
   "outputs": [],
   "source": [
    "\n",
    "# plt.figure()\n",
    "# plt.imshow(img2)\n",
    "# test_base_uv = np.asarray(plt.ginput(6,timeout=9999)) # Graphical user interface to get 6 points\n",
    "\n",
    "# np.save('test_base_uv.npy', test_base_uv)\n"
   ]
  },
  {
   "cell_type": "code",
   "execution_count": 36,
   "metadata": {},
   "outputs": [],
   "source": [
    "\n",
    "# plt.figure()\n",
    "# plt.imshow(img3)\n",
    "# test_trans_uv = np.asarray(plt.ginput(6,timeout=9999)) # Graphical user interface to get 6 points\n",
    "\n",
    "# np.save('test_trans_uv.npy', test_trans_uv)\n"
   ]
  },
  {
   "cell_type": "code",
   "execution_count": 37,
   "metadata": {},
   "outputs": [
    {
     "name": "stdout",
     "output_type": "stream",
     "text": [
      "[[ 5.45246838e-01  1.67508782e-01 -9.72470917e+01]\n",
      " [ 1.35145131e-01  3.39167434e-01 -5.03698733e+01]\n",
      " [ 8.57674857e-04  5.58742974e-04 -8.53183820e-02]]\n"
     ]
    }
   ],
   "source": [
    "\n",
    "test_base_uv = np.load('test_base_uv.npy')\n",
    "test_trans_uv = np.load('test_trans_uv.npy')\n",
    "\n",
    "test_base_3D = (np.append(test_base_uv,np.ones((6,1)),axis=1))\n",
    "test_trans_3D = (np.append(test_trans_uv,np.ones((6,1)),axis=1))\n",
    "uv2_3D = (np.append(uv2,np.ones((6,1)),axis=1))\n",
    "\n",
    "t_norm_1 = T_norm(img2)\n",
    "t_norm_2 = T_norm(img3)\n",
    "\n",
    "norm_test_base = test_base_3D @ t_norm_1.T\n",
    "norm_test_trans = test_trans_3D @ t_norm_2.T\n",
    "\n",
    "test_H = homography(norm_test_trans[:,0], norm_test_trans[:,1], norm_test_base[:,0], norm_test_base[:,1])\n",
    "test_H = denormalize_H(t_norm_2, test_H, t_norm_1)\n",
    "print(test_H)\n",
    "\n",
    "\n"
   ]
  },
  {
   "cell_type": "code",
   "execution_count": 38,
   "metadata": {},
   "outputs": [
    {
     "data": {
      "text/plain": [
       "<matplotlib.image.AxesImage at 0x7fbc51d35850>"
      ]
     },
     "execution_count": 38,
     "metadata": {},
     "output_type": "execute_result"
    }
   ],
   "source": [
    "\n",
    "new_hz = (test_H @ uv2_3D.T)\n",
    "\n",
    "test_new = np.zeros((2,6))\n",
    "test_new[0] = new_hz[0]/new_hz[2]\n",
    "test_new[1] = new_hz[1]/new_hz[2]\n",
    "\n",
    "# plt.figure()\n",
    "# plt.subplot(122)\n",
    "# plt.imshow(img3)\n",
    "# plt.title('Show the normalized homography points')\n",
    "# plt.scatter(test_new[0],test_new[1],c='r',s=30,marker='o',zorder=2)\n",
    "\n",
    "\n",
    "# plt.subplot(121)\n",
    "# plt.scatter(uv2[:,0],uv2[:,1],c='r',s=30,marker='o',zorder=1)\n",
    "# plt.title('Check the selected points in the image')\n",
    "# plt.imshow(img2)\n",
    "plt.figure()\n",
    "plt.scatter(test_base_uv[:,0],test_base_uv[:,1],c='r',s=30,marker='o',zorder=1)\n",
    "plt.imshow(img2)\n",
    "\n"
   ]
  },
  {
   "cell_type": "code",
   "execution_count": 39,
   "metadata": {},
   "outputs": [],
   "source": [
    "plt.figure()\n",
    "test_warp_img = cv2.warpPerspective(img2, test_H, (img2.shape[1],img2.shape[0]))\n",
    "plt.imshow(test_warp_img)\n",
    "plt.title('Show the test1 wrapping image result')\n",
    "plt.show()"
   ]
  },
  {
   "cell_type": "code",
   "execution_count": null,
   "metadata": {},
   "outputs": [],
   "source": []
  },
  {
   "cell_type": "code",
   "execution_count": 40,
   "metadata": {},
   "outputs": [],
   "source": [
    "\n",
    "# plt.figure()\n",
    "# plt.imshow(img2)\n",
    "# test2_base_uv = np.asarray(plt.ginput(6,timeout=9999)) # Graphical user interface to get 6 points\n",
    "\n",
    "# np.save('test2_base_uv.npy', test2_base_uv)\n",
    "\n",
    "\n",
    "# plt.figure()\n",
    "# plt.imshow(img3)\n",
    "# test2_trans_uv = np.asarray(plt.ginput(6,timeout=9999)) # Graphical user interface to get 6 points\n",
    "\n",
    "# np.save('test2_trans_uv.npy', test2_trans_uv)\n",
    "\n"
   ]
  },
  {
   "cell_type": "code",
   "execution_count": 41,
   "metadata": {},
   "outputs": [
    {
     "name": "stdout",
     "output_type": "stream",
     "text": [
      "[[ 5.45246838e-01  1.67508782e-01 -9.72470917e+01]\n",
      " [ 1.35145131e-01  3.39167434e-01 -5.03698733e+01]\n",
      " [ 8.57674857e-04  5.58742974e-04 -8.53183820e-02]]\n"
     ]
    }
   ],
   "source": [
    "\n",
    "test2_base_uv = np.load('test2_base_uv.npy')\n",
    "test2_trans_uv = np.load('test2_trans_uv.npy')\n",
    "\n",
    "test2_base_3D = (np.append(test2_base_uv,np.ones((6,1)),axis=1))\n",
    "test2_trans_3D = (np.append(test2_trans_uv,np.ones((6,1)),axis=1))\n",
    "uv2_3D = (np.append(uv2,np.ones((6,1)),axis=1))\n",
    "\n",
    "t_norm_1 = T_norm(img2)\n",
    "t_norm_2 = T_norm(img3)\n",
    "\n",
    "norm_test2_base = test2_base_3D @ t_norm_1.T\n",
    "norm_test2_trans = test2_trans_3D @ t_norm_2.T\n",
    "\n",
    "test2_H = homography(norm_test2_trans[:,0], norm_test2_trans[:,1], norm_test2_base[:,0], norm_test2_base[:,1])\n",
    "test2_H = denormalize_H(t_norm_2, test2_H, t_norm_1)\n",
    "print(test_H)\n",
    "\n",
    "\n",
    "plt.figure()\n",
    "test2_warp_img = cv2.warpPerspective(img2, test2_H, (img2.shape[1],img2.shape[0]))\n",
    "plt.imshow(test2_warp_img)\n",
    "plt.title('Show the test2 wrapping image result')\n",
    "plt.show()\n"
   ]
  },
  {
   "cell_type": "code",
   "execution_count": 42,
   "metadata": {},
   "outputs": [
    {
     "data": {
      "text/plain": [
       "<matplotlib.image.AxesImage at 0x7fbc527a3190>"
      ]
     },
     "execution_count": 42,
     "metadata": {},
     "output_type": "execute_result"
    }
   ],
   "source": [
    "plt.figure()\n",
    "plt.scatter(test2_base_uv[:,0],test2_base_uv[:,1],c='r',s=30,marker='o',zorder=1)\n",
    "plt.imshow(img2)"
   ]
  },
  {
   "cell_type": "code",
   "execution_count": null,
   "metadata": {},
   "outputs": [],
   "source": []
  }
 ],
 "metadata": {
  "kernelspec": {
   "display_name": "Python 3",
   "language": "python",
   "name": "python3"
  },
  "language_info": {
   "codemirror_mode": {
    "name": "ipython",
    "version": 3
   },
   "file_extension": ".py",
   "mimetype": "text/x-python",
   "name": "python",
   "nbconvert_exporter": "python",
   "pygments_lexer": "ipython3",
   "version": "3.7.6"
  }
 },
 "nbformat": 4,
 "nbformat_minor": 4
}
